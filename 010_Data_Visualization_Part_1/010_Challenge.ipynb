{
 "cells": [
  {
   "cell_type": "markdown",
   "metadata": {},
   "source": [
    "<img src='https://cdn0.tnwcdn.com/wp-content/blogs.dir/1/files/2019/01/wargames-796x376.jpg'>\n",
    "\n",
    "\n",
    "\n",
    "# 010 - Challenge\n",
    "\n",
    "There are two challenges in this notebook for you to tackle. Each one will test your knowledge of Python to now. While they will be challenges, they are not challenges that will be impossible for you. You know everything you need to know in order to complete these challenges, save one portion which I will give you a guide to get you through. \n",
    "\n",
    "\n",
    "# Shall We Play A Game? - Challenge 1\n",
    "\n",
    "This is a guessing game. This is the next leg of THE guessing game we started earlier in our meet-ups, only this time we take it two steps forward. \n",
    "\n",
    "Try to write new code rather than copying your previous code. See if you can improve your code from the last time you developed this game.\n",
    "\n",
    "## Premise of the Guessing Game\n",
    "1. Python generates a random secret number between 1-20.\n",
    "1. The player has 5 tries to guess the secret number (a 25% chance to guess it correctly).\n",
    "1. After each player guess, Python tells the player if the player's guess is higher or lower than the secret number. \n",
    "1. The game ends when\n",
    "    1. the player uses all five tries without a correct guess or\n",
    "    1. the player guesses the correct number.\n",
    "    \n",
    "## Scoring\n",
    "- If the player guesses the secret number in 1 try, they receive 5 points.\n",
    "- If the player guesses the secret number in 2 tries, they receive 4 points.\n",
    "- If the player guesses the secret number in 3 tries, they receive 3 points.\n",
    "- If the player guesses the secret number in 4 tries, they receive 2 points.\n",
    "- If the player guesses the secret number in 5 tries, they receive 1 point.\n",
    "- If the player does not guess the secret number, they receive 0 points. \n",
    "\n",
    "The fewer tries to correctly guess the secret number, the higher the player scores.\n",
    "\n",
    "## At the End of each Game\n",
    "At the end of each game, the following is recorded to a DataFrame:\n",
    "- Player's name\n",
    "- Game number for that player\n",
    "- Player's score\n",
    "- Secret number for that game\n",
    "\n",
    "## At the End of all of the Player's Games\n",
    "When the player is done playing all the games they want to play, a chart is automatically generated showing\n",
    "- That player's name\n",
    "- That player's highest score\n",
    "- That player's lowest score\n",
    "- That player's median score\n",
    "- The statistical distribution of all scores for that player to date\n",
    "\n",
    "Then, save the DataFrame to a csv file. \n",
    "\n",
    "## For a bit more of a challenge\n",
    "For a bit more of a challenge, if the same player plays again, the Python picks up where the player left off and adds any additional game score to the player's overall score. And reflect this in the chart for that player. "
   ]
  },
  {
   "cell_type": "code",
   "execution_count": null,
   "metadata": {},
   "outputs": [],
   "source": []
  },
  {
   "cell_type": "markdown",
   "metadata": {},
   "source": [
    "# Shall We Play A Game? - Challenge 2\n",
    "\n",
    "Building on what you built in Challenge 1, Challenge 2 takes what was done in the first challenge, then adds:\n",
    "1. Python plays against itself.\n",
    "1. Python draws a \"player\" name one at a time from a list of five player names.\n",
    "1. Each \"player\" plays 20 games (5 players * 20 games each = 100 observations in your DataFrame at the end) \n",
    "1. At the conclusion of ALL games, draw a single summary chart that shows\n",
    "    1. each player's name\n",
    "    1. each player's highest score\n",
    "    1. each player's lowest score\n",
    "    1. each player's median score\n",
    "    1. the statistical distribution of all scores for each player\n",
    "1. THEN draw a second chart showing the statistical distribution of ALL secret numbers generated for each player by player\n",
    "1. Save all of the game and player data to a csv file as you did in Challenge 1\n",
    "\n",
    "For the game in Challenge 2, it should be fully automated so that once it starts, it runs through all five players, as well as charting, without any more human intervention. "
   ]
  },
  {
   "cell_type": "code",
   "execution_count": null,
   "metadata": {},
   "outputs": [],
   "source": []
  },
  {
   "cell_type": "markdown",
   "metadata": {},
   "source": [
    "# EndNote\n",
    "We have covered everything you need to write the code in both of these challenges ***EXCEPT*** plotting a \"Violin Plot\". This is the additional challenge, to attempt learning how to deploy a Violin Plot on your own. We will cover Violin Plots in our next meet-up. This is a way to get ahead of at least one chart. \n",
    "\n",
    "## Reference\n",
    "https://towardsdatascience.com/seaborn-lets-make-plotting-fun-4951b89a0c07"
   ]
  },
  {
   "cell_type": "code",
   "execution_count": null,
   "metadata": {},
   "outputs": [],
   "source": []
  },
  {
   "cell_type": "code",
   "execution_count": null,
   "metadata": {},
   "outputs": [],
   "source": []
  },
  {
   "cell_type": "code",
   "execution_count": null,
   "metadata": {},
   "outputs": [],
   "source": []
  },
  {
   "cell_type": "code",
   "execution_count": null,
   "metadata": {},
   "outputs": [],
   "source": []
  },
  {
   "cell_type": "code",
   "execution_count": null,
   "metadata": {},
   "outputs": [],
   "source": []
  }
 ],
 "metadata": {
  "kernelspec": {
   "display_name": "Python 3",
   "language": "python",
   "name": "python3"
  },
  "language_info": {
   "codemirror_mode": {
    "name": "ipython",
    "version": 3
   },
   "file_extension": ".py",
   "mimetype": "text/x-python",
   "name": "python",
   "nbconvert_exporter": "python",
   "pygments_lexer": "ipython3",
   "version": "3.7.4"
  },
  "toc": {
   "base_numbering": 1,
   "nav_menu": {},
   "number_sections": true,
   "sideBar": true,
   "skip_h1_title": false,
   "title_cell": "Table of Contents",
   "title_sidebar": "Contents",
   "toc_cell": false,
   "toc_position": {},
   "toc_section_display": true,
   "toc_window_display": true
  }
 },
 "nbformat": 4,
 "nbformat_minor": 2
}
